{
 "cells": [
  {
   "cell_type": "code",
   "execution_count": 1,
   "id": "d8a37bdd",
   "metadata": {},
   "outputs": [],
   "source": [
    "import pandas as pd\n",
    "import numpy as np\n",
    "import re"
   ]
  },
  {
   "cell_type": "markdown",
   "id": "a52c3a5b",
   "metadata": {},
   "source": [
    "### Primeiro desenvolvimento e benchmark de um validador de CPF"
   ]
  },
  {
   "cell_type": "code",
   "execution_count": 2,
   "id": "256e557d",
   "metadata": {},
   "outputs": [
    {
     "name": "stdout",
     "output_type": "stream",
     "text": [
      "Digite seu CPF, sem traços e pontos: 38249578848\n",
      "O CPF informado foi: 382.495.788-48\n",
      "O CPF é válido!\n",
      "CPU times: total: 0 ns\n",
      "Wall time: 4.46 s\n"
     ]
    }
   ],
   "source": [
    "%%time\n",
    "ponto = '.'\n",
    "traco = '-'\n",
    "contador = 10\n",
    "posicao = 0\n",
    "acumulo = 0\n",
    "resto = 0\n",
    "cont = 11\n",
    "pos = 0\n",
    "res = 0\n",
    "acu = 0\n",
    "cpf = str(input('Digite seu CPF, sem traços e pontos: ')).strip()\n",
    "\n",
    "if len(cpf) == 11 and cpf.isnumeric():\n",
    "    cpf_formatado = cpf[0:3] + ponto + cpf[3:6] + ponto + cpf[6:9] + traco + cpf[9:]\n",
    "    print(f'O CPF informado foi: {cpf_formatado}')\n",
    "\n",
    "    for i in range(len(cpf[0:9])):\n",
    "        primeiro = int(cpf[posicao]) * contador\n",
    "        posicao += 1\n",
    "        contador -= 1  \n",
    "        acumulo = acumulo + primeiro\n",
    "\n",
    "        if contador < 2 and posicao > 8:\n",
    "            resto = acumulo % 11\n",
    "            primeiro_verificador = 11 - resto\n",
    "            if primeiro_verificador >= 10:\n",
    "                primeiro_verificador = 0\n",
    "    \n",
    "    for x in range(len(cpf[0:10])):\n",
    "        segundo = int(cpf[pos]) * cont\n",
    "        pos += 1\n",
    "        cont -= 1  \n",
    "        acu = acu + segundo\n",
    "\n",
    "        if cont < 2 and pos > 9:\n",
    "            res = acu % 11\n",
    "            segundo_verificador = 11 - res\n",
    "            if segundo_verificador >= 10:\n",
    "                segundo_verificador = 0\n",
    "\n",
    "    primeiro_verificador = str(primeiro_verificador)\n",
    "    segundo_verificador = str(segundo_verificador)\n",
    "\n",
    "    if primeiro_verificador == cpf[9] and segundo_verificador == cpf[10]:\n",
    "        print('O CPF é válido!')\n",
    "\n",
    "    else:\n",
    "        print('CPF inválido!')\n",
    "\n",
    "elif len(cpf) == 14 and '.' == cpf[3] and '.' == cpf[7] and '-' == cpf[11]:\n",
    "    print(f'O CPF informado foi: {cpf}')\n",
    "    cpf = cpf.replace('.', '')\n",
    "    cpf = cpf.replace('-', '')\n",
    "\n",
    "    for i in range(len(cpf[0:9])):\n",
    "        primeiro = int(cpf[posicao]) * contador\n",
    "        posicao += 1\n",
    "        contador -= 1  \n",
    "        acumulo = acumulo + primeiro\n",
    "\n",
    "        if contador < 2 and posicao > 8:\n",
    "            resto = acumulo % 11\n",
    "            primeiro_verificador = 11 - resto\n",
    "            if primeiro_verificador >= 10:\n",
    "                primeiro_verificador = 0\n",
    "\n",
    "    \n",
    "    for x in range(len(cpf[0:10])):\n",
    "        segundo = int(cpf[pos]) * cont\n",
    "        pos += 1\n",
    "        cont -= 1  \n",
    "        acu = acu + segundo\n",
    "\n",
    "        if cont < 2 and pos > 9:\n",
    "            res = acu % 11\n",
    "            segundo_verificador = 11 - res\n",
    "            if segundo_verificador >= 10:\n",
    "                segundo_verificador = 0\n",
    "\n",
    "    primeiro_verificador = str(primeiro_verificador)\n",
    "    segundo_verificador = str(segundo_verificador)\n",
    "\n",
    "    if primeiro_verificador == cpf[9] and segundo_verificador == cpf[10]:\n",
    "        print('O CPF é válido!')\n",
    "\n",
    "    else:\n",
    "        print('CPF inválido!')\n",
    "                               \n",
    "else:\n",
    "    print('CPF inválido!')"
   ]
  },
  {
   "cell_type": "markdown",
   "id": "6aec2ec9",
   "metadata": {},
   "source": [
    "### Otimizando código"
   ]
  },
  {
   "cell_type": "code",
   "execution_count": 4,
   "id": "70ac68f7",
   "metadata": {},
   "outputs": [
    {
     "name": "stdout",
     "output_type": "stream",
     "text": [
      "Digite seu CPF, sem traços e pontos: 38249578848\n",
      "O CPF 382.495.788-48 é válido.\n",
      "CPU times: total: 15.6 ms\n",
      "Wall time: 2.32 s\n"
     ]
    }
   ],
   "source": [
    "%%time\n",
    "def formata_cpf(cpf: str) -> str:\n",
    "    return f'{cpf[:3]}.{cpf[3:6]}.{cpf[6:9]}-{cpf[9:]}' # Verifica a formatação do CPF\n",
    "\n",
    "def valida_cpf(cpf: str) -> bool:\n",
    "    cpf = re.sub(r'\\D', '', cpf)  # Remove caracteres não numéricos\n",
    "    \n",
    "    if not re.match(r'^\\d{11}$', cpf) or len(set(cpf)) == 1:  # confere se possui 11 dígitos ou se todos digitos são iguais\n",
    "        return False\n",
    "\n",
    "    if not valida_digito_verificador(cpf, 9): # Validação do primeiro dígito verificador\n",
    "        return False\n",
    "\n",
    "    if not valida_digito_verificador(cpf, 10): # Validação do segundo dígito verificador\n",
    "        return False\n",
    "\n",
    "    return True\n",
    "\n",
    "def valida_digito_verificador(cpf: str, posicao: int) -> bool: \n",
    "    numeros = [int(digit) for digit in cpf]      # Validação do dígito verificador\n",
    "    soma = sum(a * b for a, b in zip(numeros[:posicao], range(posicao + 1, 1, -1)))\n",
    "    digito_esperado = (soma * 10 % 11) % 10\n",
    "    return numeros[posicao] == digito_esperado\n",
    "\n",
    "def main():\n",
    "    cpf = input('Digite seu CPF, sem traços e pontos: ')\n",
    "    cpf = re.sub(r'\\D', '', cpf)\n",
    "    cpf_formatado = formata_cpf(cpf)\n",
    "\n",
    "    if valida_cpf(cpf):\n",
    "        print(f'O CPF {cpf_formatado} é válido.')\n",
    "    else:\n",
    "        print(f'O CPF {cpf_formatado} é inválido.')\n",
    "\n",
    "if __name__ == \"__main__\":\n",
    "    main()"
   ]
  },
  {
   "cell_type": "code",
   "execution_count": null,
   "id": "b4023032",
   "metadata": {},
   "outputs": [],
   "source": []
  }
 ],
 "metadata": {
  "kernelspec": {
   "display_name": "Python 3 (ipykernel)",
   "language": "python",
   "name": "python3"
  },
  "language_info": {
   "codemirror_mode": {
    "name": "ipython",
    "version": 3
   },
   "file_extension": ".py",
   "mimetype": "text/x-python",
   "name": "python",
   "nbconvert_exporter": "python",
   "pygments_lexer": "ipython3",
   "version": "3.11.4"
  }
 },
 "nbformat": 4,
 "nbformat_minor": 5
}
